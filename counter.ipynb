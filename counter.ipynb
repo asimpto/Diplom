{
 "cells": [
  {
   "cell_type": "code",
   "id": "initial_id",
   "metadata": {
    "collapsed": true,
    "ExecuteTime": {
     "end_time": "2025-05-20T10:22:57.600075Z",
     "start_time": "2025-05-20T10:22:57.187606Z"
    }
   },
   "source": [
    "from openpyxl import load_workbook\n",
    "\n",
    "wb = load_workbook('data/reestr_sertifikatov_100.xlsx', read_only=True)\n",
    "print(\"Листов в файле:\", len(wb.sheetnames))"
   ],
   "outputs": [
    {
     "name": "stdout",
     "output_type": "stream",
     "text": [
      "Листов в файле: 171\n"
     ]
    }
   ],
   "execution_count": 1
  }
 ],
 "metadata": {
  "kernelspec": {
   "display_name": "Python 3",
   "language": "python",
   "name": "python3"
  },
  "language_info": {
   "codemirror_mode": {
    "name": "ipython",
    "version": 2
   },
   "file_extension": ".py",
   "mimetype": "text/x-python",
   "name": "python",
   "nbconvert_exporter": "python",
   "pygments_lexer": "ipython2",
   "version": "2.7.6"
  }
 },
 "nbformat": 4,
 "nbformat_minor": 5
}
